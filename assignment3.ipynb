{
 "cells": [
  {
   "cell_type": "markdown",
   "metadata": {},
   "source": [
    "# Assignment 3\n",
    "*Topics: difference formulas, finite difference method, interpolation*\n",
    "\n",
    "In this assignment, we will learn how to use linear algebra to compute numberical solutions of differential equations. The method we will use is called the *finite difference method* and is explained in detail in Section 1.5 of the New Notes (posted on canvas). \n",
    "\n",
    "For details on how to upload your notebook back to canvas, check the canvas homepage for a quick tutorial. For additional help with the jupyter workflow and python in general, attend an office hour at 6pm PST on Wednesday.\n",
    "\n",
    "*Double check your variable names, and don't import extra libraries!*\n"
   ]
  },
  {
   "cell_type": "code",
   "execution_count": null,
   "metadata": {},
   "outputs": [],
   "source": [
    "import numpy as np\n",
    "from math import *"
   ]
  },
  {
   "cell_type": "markdown",
   "metadata": {},
   "source": [
    "**Exercise 1**\n",
    "\n",
    "For a differentiable function $f$, recall the *forward*\n",
    "$$f'(x) \\approx \\frac{f(x+h)-f(x)}{h},$$\n",
    "*backward*\n",
    "$$f'(x) \\approx \\frac{f(x)-f(x-h)}{h},$$\n",
    "and *central* \n",
    "$$f'(x) \\approx \\frac{f(x+h)-f(x-h)}{2h},$$\n",
    "difference formulas. In this exercise we'll compare the above formulas for the function $f(x) = \\cos^3(2x)$.\n",
    "\n",
    "**Exercise 1(a)** Approximate the value of $f'(x)$ at $x = 0,0.2,0.4$ using the forward difference formula and $h = 0.02$. If your approximations are $a,b,c$ for $x = 0,0.2,0.4$ respectively, record you answer in the form FV = [a,b,c]. \n",
    "\n",
    "Note: because we have imported all of math, we have the cosine function at our disposal. The code x = cos(0.4) will assign x the value of cos(0.4), which is about 0.92.\n",
    "\n"
   ]
  },
  {
   "cell_type": "code",
   "execution_count": null,
   "metadata": {
    "deletable": false,
    "nbgrader": {
     "cell_type": "code",
     "checksum": "59713ff2c14f6ddd91c532fb1080f03c",
     "grade": false,
     "grade_id": "cell-273d7c06f6f46f1d",
     "locked": false,
     "schema_version": 3,
     "solution": true,
     "task": false
    }
   },
   "outputs": [],
   "source": [
    "# YOUR CODE HERE\n"
   ]
  },
  {
   "cell_type": "code",
   "execution_count": null,
   "metadata": {
    "deletable": false,
    "editable": false,
    "nbgrader": {
     "cell_type": "code",
     "checksum": "5f870dfdb07e4e88cfe4907945d82ab2",
     "grade": true,
     "grade_id": "cell-e958f20df6f8bce5",
     "locked": true,
     "points": 1,
     "schema_version": 3,
     "solution": false,
     "task": false
    }
   },
   "outputs": [],
   "source": [
    "assert isinstance(FV,list), \"Make sure your FV is a list. Make with square brackets.\"\n",
    "print(\"Checkpoint 1.1 passed: FV data type is good!\")\n",
    "\n"
   ]
  },
  {
   "cell_type": "markdown",
   "metadata": {},
   "source": [
    "**Exercise 1(b)** Approximate the value of $f'(x)$ at $x = 0,0.2,0.4$ using the backward difference formula and $h = 0.02$. If your approximations are $a,b,c$ for $x = 0,0.2,0.4$ respectively, record you answer in the form BV = [a,b,c]. "
   ]
  },
  {
   "cell_type": "code",
   "execution_count": null,
   "metadata": {
    "deletable": false,
    "nbgrader": {
     "cell_type": "code",
     "checksum": "d91a50fec7a6a2cc97be67fb309aef67",
     "grade": false,
     "grade_id": "cell-f678bc182f382420",
     "locked": false,
     "schema_version": 3,
     "solution": true,
     "task": false
    }
   },
   "outputs": [],
   "source": [
    "# YOUR CODE HERE\n"
   ]
  },
  {
   "cell_type": "code",
   "execution_count": null,
   "metadata": {
    "deletable": false,
    "editable": false,
    "nbgrader": {
     "cell_type": "code",
     "checksum": "6482cc27806591782d444feb5d7ce134",
     "grade": true,
     "grade_id": "cell-bcae51268cc40df4",
     "locked": true,
     "points": 1,
     "schema_version": 3,
     "solution": false,
     "task": false
    }
   },
   "outputs": [],
   "source": [
    "assert isinstance(FV,list), \"Make sure your BV is a list. Make with square brackets.\"\n",
    "print(\"Checkpoint 1.2 passed: BV data type is good!\")\n"
   ]
  },
  {
   "cell_type": "markdown",
   "metadata": {},
   "source": [
    "**Exercise 1(c)** Approximate the value of $f'(x)$ at $x = 0,0.2,0.4$ using the central difference formula and $h = 0.02$. If your approximations are $a,b,c$ for $x = 0,0.2,0.4$ respectively, record you answer in the form CV = [a,b,c]. "
   ]
  },
  {
   "cell_type": "code",
   "execution_count": null,
   "metadata": {
    "deletable": false,
    "nbgrader": {
     "cell_type": "code",
     "checksum": "658336cc373598e03b350dcf4fe1efab",
     "grade": false,
     "grade_id": "cell-2fc6d2ed4b476f91",
     "locked": false,
     "schema_version": 3,
     "solution": true,
     "task": false
    }
   },
   "outputs": [],
   "source": [
    "# YOUR CODE HERE\n"
   ]
  },
  {
   "cell_type": "code",
   "execution_count": null,
   "metadata": {
    "deletable": false,
    "editable": false,
    "nbgrader": {
     "cell_type": "code",
     "checksum": "8de4aa6d52d36f1f3a251e9f14320f74",
     "grade": true,
     "grade_id": "cell-b6f026dbcaff814d",
     "locked": true,
     "points": 1,
     "schema_version": 3,
     "solution": false,
     "task": false
    }
   },
   "outputs": [],
   "source": [
    "assert isinstance(CV,list), \"Make sure your BV is a list. Make with square brackets.\"\n",
    "print(\"Checkpoint 1.3 passed: CV data type is good!\")\n"
   ]
  },
  {
   "cell_type": "markdown",
   "metadata": {},
   "source": [
    "**Exercise 1(d)** Calculate the exactly value of $f'(x)$ at $x = 0,0.2,0.4$. Let \n",
    "\n",
    " $$ERF = |FV[0] - f'(0)| + |FV[1] - f'(0.2)| + |FV[2] - f'(0.4)|,$$\n",
    " \n",
    " be the cumulative error of the forward difference method. Similarly, let \n",
    " \n",
    "  $$ERB = |BV[0] - f'(0)| + |BV[1] - f'(0.2)| + |BV[2] - f'(0.4)|,$$\n",
    "  \n",
    "  and \n",
    "  \n",
    "   $$ERC = |CV[0] - f'(0)| + |CV[1] - f'(0.2)| + |CV[2] - f'(0.4)|,$$\n",
    "   \n",
    "   be the cumulative error of the backward and central difference methods. Note which of the methods gave the smallest cumulative error. Assign the variable MERR the value of $\\min\\{ ERF,ERB,ERC\\}$, i.e. the smallest value among $ERF,ERB,ERC$.\n",
    "   \n",
    "Note, the python function abs() returns the absolute value of a number. For example abs(-3.1)= 3.1. Also, the python function min() returns the smallest input. For example, min(-10,0.01,2) = -10. \n",
    "    \n",
    "    "
   ]
  },
  {
   "cell_type": "code",
   "execution_count": null,
   "metadata": {
    "deletable": false,
    "nbgrader": {
     "cell_type": "code",
     "checksum": "6dbcf6884f4e89962934ad83f3fdf11a",
     "grade": false,
     "grade_id": "cell-2beafa476f2fdeab",
     "locked": false,
     "schema_version": 3,
     "solution": true,
     "task": false
    }
   },
   "outputs": [],
   "source": [
    "# YOUR CODE HERE\n"
   ]
  },
  {
   "cell_type": "code",
   "execution_count": null,
   "metadata": {
    "deletable": false,
    "editable": false,
    "nbgrader": {
     "cell_type": "code",
     "checksum": "22e99fba929348a1f479740e5aed6551",
     "grade": true,
     "grade_id": "cell-5d773bace2d53ea0",
     "locked": true,
     "points": 1,
     "schema_version": 3,
     "solution": false,
     "task": false
    }
   },
   "outputs": [],
   "source": [
    "assert isinstance(MERR,float), \"Make sure your MERR is just a number.\"\n",
    "print(\"Checkpoint 1.4 passed: MERR data type is good!\")\n"
   ]
  },
  {
   "cell_type": "markdown",
   "metadata": {},
   "source": [
    "**Finite Difference Method**\n",
    "\n",
    "Consider a second order linear differential equation with boundary conditions\n",
    "\n",
    "$$\n",
    "y'' + p(t)y' + q(t)y = r(t) \\ \\ , \\ \\ y(t_0) = \\alpha \\ \\ , \\ \\ y(t_f) = \\beta\n",
    "$$\n",
    "\n",
    "The [finite difference method](https://en.wikipedia.org/wiki/Finite_difference_method) is:\n",
    "\n",
    "1. Discretize the domain: choose $N$, let $h = (t_f - t_0)/(N+1)$ and define $t_k = t_0 + kh$.\n",
    "2. Let $y_k \\approx y(t_k)$ denote the approximation of the solution at $t_k$.\n",
    "3. Substitute finite difference formulas into the equation to define an equation at each $t_k$.\n",
    "4. Rearrange the system of equations into a linear system $A \\mathbf{y} = \\mathbf{b}$ and solve for\n",
    "$$\n",
    "\\mathbf{y} = \\begin{bmatrix} y_1 & y_2 & \\cdots & y_N \\end{bmatrix}^T\n",
    "$$\n",
    "\n"
   ]
  },
  {
   "cell_type": "markdown",
   "metadata": {},
   "source": [
    "**General formula** \n",
    "\n",
    "*(See \"New Notes\", p.28 for the following derivation and p.29-30 for an example.)*\n",
    "\n",
    "Consider the general form of a second order linear ordinary differential equation with boundary conditions\n",
    "$$\n",
    "y'' + p(t)y' + q(t)y = r(t) \\ \\ , \\ \\ y(t_0) = \\alpha \\ , \\ \\ y(t_f) = \\beta\n",
    "$$\n",
    "Choose $N$ and let  $\\displaystyle h = \\frac{t_f - t_0}{N+1}$ and define $t_k = t_0 + kh$. Let $y_k$ denote an approximation of $y(t_k)$. Note that the boundary conditions give us $y_0 = \\alpha$ and $y_{N+1} = \\beta$ and let\n",
    "$$\n",
    "\\boldsymbol{y} = \\begin{bmatrix} y_1 & y_2 & \\cdots & y_N \\end{bmatrix}^T\n",
    "$$\n",
    "Let $p_k = p(t_k)$, $q_k = q(t_k)$ and $r_k = r(t_k)$, and substitute the central difference formulas for both $y''$ and $y'$ at $t_k$ into the differential equation\n",
    "$$\n",
    "\\frac{y_{k+1} -2y_k + y_{k-1}}{h^2} + p_k \\frac{y_{k+1} - y_{k-1}}{2h} + q_k y_k = r_k\n",
    "$$\n",
    "Rearrange the equation\n",
    "\\begin{align*}\n",
    "y_{k+1} -2y_k + y_{k-1} + \\frac{h p_k}{2} \\left( y_{k+1} - y_{k-1} \\right) + h^2q_k y_k &= h^2 r_k \\\\\n",
    "\\left( 1 - \\frac{h p_k}{2} \\right) y_{k-1} + (h^2q_k - 2)y_k + \\left(1 + \\frac{h p_k}{2} \\right)y_{k+1} &= h^2 r_k\n",
    "\\end{align*}\n",
    "Introduce the notation\n",
    "$$\n",
    "a_k = 1 - \\frac{h p_k}{2}\n",
    "\\hspace{10mm}\n",
    "b_k = h^2q_k - 2\n",
    "\\hspace{10mm}\n",
    "c_k = 1 + \\frac{h p_k}{2}\n",
    "$$\n",
    "Use the boundary conditions $y_0 = \\alpha$ and $y_{N+1} = \\beta$ and rearrange the equations\n",
    "$$\n",
    "\\begin{array}{rrrrcrrrrcc}\n",
    "b_1 y_1 & + & c_1 y_2 & & & & & & & = & h^2 r_1 - \\left( 1 - h p_1/2 \\right) \\alpha \\\\\n",
    "a_2 y_1 & + & b_2 y_2 & + & c_2 y_3 & & & & & = & h^2 r_2 \\\\\n",
    "& & & & \\ddots & & & & & \\vdots & \\\\\n",
    "& & & & a_{N-1}y_{N-2} & + & b_{N-1}y_{N-1} & + & c_{N-1}y_N & = & h^2 r_{N-1} \\\\\n",
    "& & & & & & a_Ny_{N-1} & + & b_Ny_N & = & h^2 r_N - \\left( 1 + h p_N/2 \\right) \\beta\n",
    "\\end{array}\n",
    "$$\n",
    "Rewrite in matrix form $A \\boldsymbol{y} = \\boldsymbol{b}$ where\n",
    "$$\n",
    "A =\n",
    "\\left[ \\begin{array}{rrcrr}\n",
    "b_1 & c_1 & & & \\\\\n",
    "a_2 & b_2 & c_2 & & \\\\\n",
    "& & \\ddots & & \\\\\n",
    "& & a_{N-1} & b_{N-1} & c_{N-1} \\\\\n",
    "& & & a_N & b_N\n",
    "\\end{array} \\right]\n",
    "\\hspace{10mm}\n",
    "\\boldsymbol{b} = \n",
    "\\begin{bmatrix}\n",
    "h^2 r_1 - \\left( 1 - h p_1/2 \\right) \\alpha \\\\ h^2 r_2 \\\\ \\vdots \\\\ h^2 r_{N-1} \\\\ h^2 r_N - \\left( 1 + h p_N/2 \\right) \\beta\n",
    "\\end{bmatrix}\n",
    "$$"
   ]
  },
  {
   "cell_type": "markdown",
   "metadata": {},
   "source": [
    "**Exercise 2** \n",
    "\n",
    "In this exercise we'll use the finite difference method to approximate a solution to the second order linear differential equation \n",
    "\n",
    "$$ y'' = 4\\cos(2x) + 6x, \\quad \\text{with boundary conditions} \\quad y(1) = 2\\sin^2(1) + 1, y(3) = 2\\sin^2(3) + 27.$$\n",
    "\n",
    "\n",
    "**Exercise 2(a)** Use the finite difference method with $N = 4$ to find approximate values of $y(1.4),y(1.8),y(2.2),y(2.6)$. \n",
    "\n",
    "First you'll need to find the appropriate $4 \\times 4$ matrix $A$. Assign the variable $A21$ the np.array matrix $A$. \n",
    "\n",
    "Second, record your approximations as the variable A22 = [a,b,c,d] where $a,b,c,d$ are the approximations you found for $y(1.4),y(1.8),y(2.2),y(2.6)$ respectively. \n",
    "\n",
    "Both answers can be recorded in the below box, we'll give immediate feedback for each. \n",
    "\n"
   ]
  },
  {
   "cell_type": "code",
   "execution_count": null,
   "metadata": {
    "deletable": false,
    "nbgrader": {
     "cell_type": "code",
     "checksum": "459fc17f69ccd1f4bba7319a41214ab0",
     "grade": false,
     "grade_id": "cell-2224af450133b1b7",
     "locked": false,
     "schema_version": 3,
     "solution": true,
     "task": false
    }
   },
   "outputs": [],
   "source": [
    "# YOUR CODE HERE\n"
   ]
  },
  {
   "cell_type": "code",
   "execution_count": null,
   "metadata": {
    "deletable": false,
    "editable": false,
    "nbgrader": {
     "cell_type": "code",
     "checksum": "0d457e4d3944d728b46fa66d429b2451",
     "grade": true,
     "grade_id": "cell-9dbf1a9877e57403",
     "locked": true,
     "points": 2,
     "schema_version": 3,
     "solution": false,
     "task": false
    }
   },
   "outputs": [],
   "source": [
    "assert isinstance(A21,np.ndarray), \"Check that your A21 is a np.array.\"\n",
    "print(\"Checkpoint 2.1 passed: Good data type.\")\n",
    "\n",
    "assert isinstance(A22,list), \"Check that your A22 is a list.\"\n",
    "print(\"Checkpoint 2.2 passed: Good data type.\")\n"
   ]
  },
  {
   "cell_type": "markdown",
   "metadata": {},
   "source": [
    "**Exercise 2(b)** Use the finite difference method with $N = 7$ to find approximate values of $y(1.25),y(1.5),y(1.75),y(2),y(2.25),y(2.5),y(2.75)$. Record your answer as the variable B2 = [a,b,c,d,e,f,g] where $a,b,c,d,e,f,g$ are the approximations you found for $y(1.25),y(1.5),y(1.75),y(2),y(2.25),y(2.5),y(2.75)$ respectively."
   ]
  },
  {
   "cell_type": "code",
   "execution_count": null,
   "metadata": {
    "deletable": false,
    "nbgrader": {
     "cell_type": "code",
     "checksum": "8a936bf7180320abfd0f4e5bc72b013c",
     "grade": false,
     "grade_id": "cell-0d83951db5bb5fe9",
     "locked": false,
     "schema_version": 3,
     "solution": true,
     "task": false
    }
   },
   "outputs": [],
   "source": [
    "# YOUR CODE HERE\n"
   ]
  },
  {
   "cell_type": "code",
   "execution_count": null,
   "metadata": {
    "deletable": false,
    "editable": false,
    "nbgrader": {
     "cell_type": "code",
     "checksum": "034a3d4bbec7ae495bd17267338c2e14",
     "grade": true,
     "grade_id": "cell-b7f38aa124445743",
     "locked": true,
     "points": 2,
     "schema_version": 3,
     "solution": false,
     "task": false
    }
   },
   "outputs": [],
   "source": [
    "assert isinstance(B2,list), \"Check that your B2 is a list.\"\n",
    "print(\"Checkpoint 2.3 passed: Good data type.\")\n"
   ]
  },
  {
   "cell_type": "markdown",
   "metadata": {},
   "source": [
    "**Exercise 2(c)** Let a,b,c,d,e,f,g be your approximations for $y(1.25),y(1.5),y(1.75),y(2),y(2.25),y(2.5),y(2.75)$ in the above question. Use Vandermonde Interpolation to find a degree 6 polynomial that interpolates the set of points \n",
    "$$ \\{ (1.25,a), (1.5,b), (1.75,c), (2,d), (2.25,e), (2.5,f), (2.75,g) \\}. $$\n",
    "\n",
    "If the polynomial you find is \n",
    "$$ C_0 + C_1 x + C_2 x^2 + C_3 x^3 + C_4 x^4 + C_5 x^5 + C_6 x^6,$$\n",
    "\n",
    "assign the variable INTPOLY2 the value [C_0,C_1,C_2,C_3,C_4,C_5,C_6]. \n",
    "\n",
    "Note that here we are not adding the boundary points of the differential equation into our interpolation.\n",
    "\n"
   ]
  },
  {
   "cell_type": "code",
   "execution_count": null,
   "metadata": {
    "deletable": false,
    "nbgrader": {
     "cell_type": "code",
     "checksum": "867e56e8ba9ac69bcd22360281b39fd1",
     "grade": false,
     "grade_id": "cell-21a4823159122a7b",
     "locked": false,
     "schema_version": 3,
     "solution": true,
     "task": false
    }
   },
   "outputs": [],
   "source": [
    "# YOUR CODE HERE\n"
   ]
  },
  {
   "cell_type": "code",
   "execution_count": null,
   "metadata": {
    "deletable": false,
    "editable": false,
    "nbgrader": {
     "cell_type": "code",
     "checksum": "51f4726a355c9a838b17e069ab3b6402",
     "grade": true,
     "grade_id": "cell-bc07a020d9e2f74d",
     "locked": true,
     "points": 2,
     "schema_version": 3,
     "solution": false,
     "task": false
    }
   },
   "outputs": [],
   "source": [
    "assert isinstance(INTPOLY2,list), \"Check that your INTPOLY2 is a list.\"\n",
    "print(\"Checkpoint 2.4 passed: Good data type.\")\n"
   ]
  },
  {
   "cell_type": "markdown",
   "metadata": {},
   "source": [
    "**Exercise 2(d)** This differential equation has the exact solution $y(x) = 2\\sin^2(x) + x^3$. Lets do a quick calculation to track the average discrepancy between our interpolating polynomial and the exact solution. If $y(x)$ is the exact solution and $p(x)$ is your interpolating polynomial, calculate an average error:\n",
    "\n",
    "$$ D2 = \\frac{1}{4} \\left( |p(1.3) - y(1.3)| + |p(1.7) - y(1.7)| + |p(2.3) - y(2.3)| + |p(2.7)-y(2.7)| \\right) .$$\n",
    "\n",
    "Record your answer by assigning the variable E2 the value you calculate for the above expression. \n",
    "\n",
    "\n",
    "\n",
    "\n"
   ]
  },
  {
   "cell_type": "code",
   "execution_count": null,
   "metadata": {
    "deletable": false,
    "nbgrader": {
     "cell_type": "code",
     "checksum": "90edbb056561ede0670ac1b24981d94e",
     "grade": false,
     "grade_id": "cell-a8c766f6c311b050",
     "locked": false,
     "schema_version": 3,
     "solution": true,
     "task": false
    }
   },
   "outputs": [],
   "source": [
    "# YOUR CODE HERE\n"
   ]
  },
  {
   "cell_type": "code",
   "execution_count": null,
   "metadata": {
    "deletable": false,
    "editable": false,
    "nbgrader": {
     "cell_type": "code",
     "checksum": "af381a7ec35d8fdbfc7370235004b93f",
     "grade": true,
     "grade_id": "cell-4de67f6077626ce3",
     "locked": true,
     "points": 1,
     "schema_version": 3,
     "solution": false,
     "task": false
    }
   },
   "outputs": [],
   "source": [
    "assert isinstance(D2,float), \"Check that your D2 is a number.\"\n",
    "print(\"Checkpoint 2.5 passed: Good data type.\")\n"
   ]
  },
  {
   "cell_type": "markdown",
   "metadata": {},
   "source": [
    "**Exercise 3** \n",
    "\n",
    "This exercise will be similar to Exercise 2. We'll use the finite difference method to approximate a solution to the second order linear differential equation \n",
    "\n",
    "$$ y'' + \\sin(t) y ' + t^2 y = 4, \\quad \\text{with boundary conditions} \\quad y(0) = 0.5, y'(1) = 3.$$\n",
    "\n",
    "\n",
    "**Exercise 3(a)** Use the finite difference method with $N = 4$ to find approximate values of $y(0.2),y(0.4),y(0.6),y(0.8),y(1)$. \n",
    "\n",
    "\n",
    "First you'll need to find the appropriate $5 \\times 5$ matrix $A$. Assign the variable $A31$ the np.array matrix $A$. \n",
    "\n",
    "Second, record your approximations as the variable A32 = [a,b,c,d,e] where $a,b,c,d,e$ are the approximations you found for $y(0.2),y(0.4),y(0.6),y(0.8),y(1)$ respectively.\n",
    "\n",
    "Hint: To use the boundary condition $y'(1) = 4$, use the backward difference formula. We know that\n",
    "$$ y'(1) \\approx \\frac{y(1) - y(0.8)}{0.2} ,$$\n",
    "this is a linear equation that can be added as a row in our `finite difference matrix'.\n",
    "\n",
    "\n"
   ]
  },
  {
   "cell_type": "code",
   "execution_count": null,
   "metadata": {
    "deletable": false,
    "nbgrader": {
     "cell_type": "code",
     "checksum": "8e51a42f8814e30b3bc252258f955d2b",
     "grade": false,
     "grade_id": "cell-e8f36e197ebe8c0f",
     "locked": false,
     "schema_version": 3,
     "solution": true,
     "task": false
    }
   },
   "outputs": [],
   "source": [
    "# YOUR CODE HERE\n"
   ]
  },
  {
   "cell_type": "code",
   "execution_count": null,
   "metadata": {
    "deletable": false,
    "editable": false,
    "nbgrader": {
     "cell_type": "code",
     "checksum": "002985f859d6e512828d8b1d390b35c5",
     "grade": true,
     "grade_id": "cell-f704bbb8df4d11aa",
     "locked": true,
     "points": 2,
     "schema_version": 3,
     "solution": false,
     "task": false
    }
   },
   "outputs": [],
   "source": [
    "assert isinstance(A31,np.ndarray), \"Check that your A31 is a np.array.\"\n",
    "print(\"Checkpoint 3.1 passed: Good data type.\")\n",
    "\n",
    "assert isinstance(A32,list), \"Check that your A32 is a list.\"\n",
    "print(\"Checkpoint 3.2 passed: Good data type.\")\n"
   ]
  },
  {
   "cell_type": "markdown",
   "metadata": {},
   "source": [
    "**Exercise 3(b)** Use the finite difference method with $N = 7$ to find approximate values of $y(0.125),y(0.25),y(0.375),y(0.5),y(0.625),y(0.75),y(0.875),y(1)$. Record your answer as the variable B3 = [a,b,c,d,e,f,g,h] where $a,b,c,d,e,f,g,h$ are the approximations you found for $y(0.125),y(0.25),y(0.375),y(0.5),y(0.625),y(0.75),y(0.875),y(1)$ respectively."
   ]
  },
  {
   "cell_type": "code",
   "execution_count": null,
   "metadata": {
    "deletable": false,
    "nbgrader": {
     "cell_type": "code",
     "checksum": "f6ae3187e97617c4bc2dfbb45dc84432",
     "grade": false,
     "grade_id": "cell-7ffefda739e27969",
     "locked": false,
     "schema_version": 3,
     "solution": true,
     "task": false
    }
   },
   "outputs": [],
   "source": [
    "# YOUR CODE HERE\n"
   ]
  },
  {
   "cell_type": "code",
   "execution_count": null,
   "metadata": {
    "deletable": false,
    "editable": false,
    "nbgrader": {
     "cell_type": "code",
     "checksum": "50c182578f08aabdee56d32607fef288",
     "grade": true,
     "grade_id": "cell-9eba5774fddcb522",
     "locked": true,
     "points": 2,
     "schema_version": 3,
     "solution": false,
     "task": false
    }
   },
   "outputs": [],
   "source": [
    "assert isinstance(B3,list), \"Check that your B2 is a list.\"\n",
    "print(\"Checkpoint 3.3 passed: Good data type.\")\n"
   ]
  },
  {
   "cell_type": "markdown",
   "metadata": {},
   "source": [
    "**Exercise 3(c)** Let a,b,c,d,e,f,g,h be your approximations for $y(0.125),y(0.25),y(0.375),y(0.5),y(0.625),y(0.75),y(0.875),y(1)$ in the above question. Use Vandermonde Interpolation to find a degree 7 polynomial that interpolates the set of points \n",
    "$$ \\{ (0.125,a), (0.25,b), (0.375,c), (0.5,d), (0.625,e), (0.75,f), (0.875,g), (1,h) \\}. $$\n",
    "\n",
    "If the polynomial you find is \n",
    "$$ C_0 + C_1 x + C_2 x^2 + C_3 x^3 + C_4 x^4 + C_5 x^5 + C_6 x^6+C_7x^7,$$\n",
    "\n",
    "assign the variable INTPOLY3 the value [C_0,C_1,C_2,C_3,C_4,C_5,C_6,C_7]. \n",
    "\n",
    "Note here that we are including $x = 1$ in the interpolation, but not $x = 0$. \n",
    "\n"
   ]
  },
  {
   "cell_type": "code",
   "execution_count": null,
   "metadata": {
    "deletable": false,
    "nbgrader": {
     "cell_type": "code",
     "checksum": "ef664102e48e7e184396b2f8fda45e98",
     "grade": false,
     "grade_id": "cell-bbc22004d0579d8a",
     "locked": false,
     "schema_version": 3,
     "solution": true,
     "task": false
    }
   },
   "outputs": [],
   "source": [
    "# YOUR CODE HERE\n"
   ]
  },
  {
   "cell_type": "code",
   "execution_count": null,
   "metadata": {
    "deletable": false,
    "editable": false,
    "nbgrader": {
     "cell_type": "code",
     "checksum": "0c81c71b076b393079ca1411f0d13d04",
     "grade": true,
     "grade_id": "cell-b5fec6de53f7217a",
     "locked": true,
     "points": 2,
     "schema_version": 3,
     "solution": false,
     "task": false
    }
   },
   "outputs": [],
   "source": [
    "assert isinstance(INTPOLY3,list), \"Check that your INTPOLY2 is a list.\"\n",
    "print(\"Checkpoint 3.4 passed: Good data type.\")\n"
   ]
  }
 ],
 "metadata": {
  "kernelspec": {
   "display_name": "Python 3",
   "language": "python",
   "name": "python3"
  },
  "language_info": {
   "codemirror_mode": {
    "name": "ipython",
    "version": 3
   },
   "file_extension": ".py",
   "mimetype": "text/x-python",
   "name": "python",
   "nbconvert_exporter": "python",
   "pygments_lexer": "ipython3",
   "version": "3.6.5"
  }
 },
 "nbformat": 4,
 "nbformat_minor": 4
}
